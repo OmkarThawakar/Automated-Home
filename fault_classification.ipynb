{
 "cells": [
  {
   "cell_type": "markdown",
   "metadata": {},
   "source": [
    "# Fault Classification using ANN\n",
    "#### Samruddhi Taywade \n",
    "##### Final Year B.E. \n",
    "P.R.Patil College of Engineering and Technology"
   ]
  },
  {
   "cell_type": "code",
   "execution_count": 112,
   "metadata": {
    "collapsed": true
   },
   "outputs": [],
   "source": [
    "import numpy as np\n",
    "import pandas as pd\n",
    "import matplotlib.pyplot as plt"
   ]
  },
  {
   "cell_type": "markdown",
   "metadata": {},
   "source": [
    "### Importing Data"
   ]
  },
  {
   "cell_type": "code",
   "execution_count": 99,
   "metadata": {},
   "outputs": [],
   "source": [
    "data = pd.read_csv('fault_classification.csv',index_col='Day')"
   ]
  },
  {
   "cell_type": "markdown",
   "metadata": {},
   "source": [
    "### Neuron Which takes decision about fault in tank filling"
   ]
  },
  {
   "cell_type": "code",
   "execution_count": 123,
   "metadata": {
    "collapsed": true
   },
   "outputs": [],
   "source": [
    "class Neuron:\n",
    "    def __init__(self,eta=0.01):\n",
    "        self.eta=eta\n",
    "        \n",
    "    def init_weights(self,X):\n",
    "        return np.random.random(1+X.shape[1])\n",
    "    \n",
    "    def train(self,X,outputs,e_max):\n",
    "        self.w_ =np.random.random(1+X.shape[1])\n",
    "        self.error_ = []\n",
    "        epoch=1\n",
    "        steps = 0\n",
    "        done = False\n",
    "        while not done:\n",
    "            #print(\"Epoch : \",epoch)\n",
    "            err=0\n",
    "            for x,d in zip(X,outputs):\n",
    "                out = self.predict(x)\n",
    "                err += 0.5*(d-out)**2\n",
    "                #print(\"For input pattern : \",x)\n",
    "                self.w_[1:] = self.w_[1:] + self.eta*(d-out)*self.gradient(x)*x\n",
    "                self.w_[0] = self.w_[0] + self.eta*(d-out)*self.gradient(x)*1\n",
    "                #print(\"Weights : \",self.w_)\n",
    "                steps+=1\n",
    "            if err<e_max:\n",
    "                done = True\n",
    "                print(\"Training done\")\n",
    "            else:\n",
    "                #print(\"$\")\n",
    "                epoch+=1\n",
    "                self.error_.append(err)\n",
    "            #print(\"Error : \",err)\n",
    "        #print(\"No of epochs required for training are : \",epoch)\n",
    "        print('No of steps required for training are : ',steps)\n",
    "        print('Final Error : ',self.error_[-1])\n",
    "        return self\n",
    "    \n",
    "    def get_weights(self):\n",
    "        return self.w_\n",
    "\n",
    "    def net_input(self,X):\n",
    "        return np.dot(X,self.w_[1:])+self.w_[0]\n",
    "\n",
    "    def activation(self,X):\n",
    "        net = self.net_input(X)\n",
    "        return (1-np.exp(-net))/(1+np.exp(-net))\n",
    "    \n",
    "    def gradient(self,X):\n",
    "        return 0.5*(1-self.predict(X)**2)\n",
    "\n",
    "    def predict(self,X):\n",
    "        return self.activation(X)"
   ]
  },
  {
   "cell_type": "code",
   "execution_count": 124,
   "metadata": {},
   "outputs": [],
   "source": [
    "X = []\n",
    "d = []\n",
    "for i,j,k in zip(list(data['rate']),list(data['time_to_fill']),list(data['class'])):\n",
    "    X.append((i,j))\n",
    "    d.append(k)\n",
    "    \n",
    "X = np.array(X)\n",
    "d = np.array(d)"
   ]
  },
  {
   "cell_type": "code",
   "execution_count": 169,
   "metadata": {},
   "outputs": [
    {
     "data": {
      "image/png": "[encoded data removed]",
      "text/plain": [
       "<matplotlib.figure.Figure at 0x1177a7048>"
      ]
     },
     "metadata": {},
     "output_type": "display_data"
    }
   ],
   "source": [
    "for i in range(len(X)):    \n",
    "    if int(d[i]) == -1:\n",
    "        plt.scatter(X[i][0],X[i][1],c='g')\n",
    "    else:\n",
    "        plt.scatter(X[i][0],X[i][1],c='r' )\n",
    "        \n",
    "plt.title('Plot of Motor Operations')\n",
    "plt.xlabel('Rate (cubic meter/hour)')\n",
    "plt.ylabel('Time to Fill Tank (hour)')\n",
    "plt.show()"
   ]
  },
  {
   "cell_type": "code",
   "execution_count": 143,
   "metadata": {
    "collapsed": true
   },
   "outputs": [],
   "source": [
    "neuron = Neuron()"
   ]
  },
  {
   "cell_type": "code",
   "execution_count": 146,
   "metadata": {
    "collapsed": true
   },
   "outputs": [],
   "source": [
    "X_std = np.copy(X)\n",
    "\n",
    "X_std[ : , 0] = (X[: , 0] - X[: , 0].mean()) / X[: , 0].std()\n",
    "\n",
    "X_std[ : , 1] = (X[: , 1] - X[: , 1].mean()) / X[: , 1].std()"
   ]
  },
  {
   "cell_type": "code",
   "execution_count": 150,
   "metadata": {},
   "outputs": [
    {
     "data": {
      "text/plain": [
       "array([0.43572231, 0.62452666, 0.10674851])"
      ]
     },
     "execution_count": 150,
     "metadata": {},
     "output_type": "execute_result"
    }
   ],
   "source": [
    "neuron.init_weights(X_std)"
   ]
  },
  {
   "cell_type": "code",
   "execution_count": 152,
   "metadata": {},
   "outputs": [
    {
     "name": "stdout",
     "output_type": "stream",
     "text": [
      "Training done\n",
      "No of steps required for training are :  153732\n",
      "Final Error :  0.010003564737185233\n"
     ]
    },
    {
     "data": {
      "text/plain": [
       "<__main__.Neuron at 0x116eca240>"
      ]
     },
     "execution_count": 152,
     "metadata": {},
     "output_type": "execute_result"
    }
   ],
   "source": [
    "neuron.train(X_std,d,0.01)"
   ]
  },
  {
   "cell_type": "code",
   "execution_count": 154,
   "metadata": {},
   "outputs": [
    {
     "data": {
      "image/png": "[encoded data removed]",
      "text/plain": [
       "<matplotlib.figure.Figure at 0x116af8550>"
      ]
     },
     "metadata": {},
     "output_type": "display_data"
    }
   ],
   "source": [
    "plt.plot(neuron.error_)\n",
    "plt.title('Error Plot')\n",
    "plt.xlabel('Epochs')\n",
    "plt.ylabel('Mean Square Error')\n",
    "plt.show()"
   ]
  },
  {
   "cell_type": "markdown",
   "metadata": {},
   "source": [
    "### Decision Boundary created by our Neuron"
   ]
  },
  {
   "cell_type": "code",
   "execution_count": 165,
   "metadata": {},
   "outputs": [
    {
     "data": {
      "image/png": "[encoded data removed]",
      "text/plain": [
       "<matplotlib.figure.Figure at 0x116ae8e48>"
      ]
     },
     "metadata": {},
     "output_type": "display_data"
    }
   ],
   "source": [
    "x = np.arange(-2,2,0.5)\n",
    "a,b,c = neuron.w_[1],neuron.w_[2],neuron.w_[0]\n",
    "y = (-c-a*x)/b \n",
    "colors = ['blue','green','red']\n",
    "plt.plot(x,y,label='Decision-Boundary')\n",
    "for i,j in zip(X_std,d):\n",
    "    plt.scatter(i[0],i[1],c='green' if j==1 else 'red')\n",
    "plt.fill_between(x,y,5,color='green',alpha=0.2,label='Class 1 (Faulty Motor)')\n",
    "plt.fill_between(x,y,-3,color='red',alpha=0.2,label='Class -1 (Operational Motor)')\n",
    "plt.legend()\n",
    "plt.show()"
   ]
  },
  {
   "cell_type": "code",
   "execution_count": null,
   "metadata": {
    "collapsed": true
   },
   "outputs": [],
   "source": []
  }
 ],
 "metadata": {
  "kernelspec": {
   "display_name": "Python 3",
   "language": "python",
   "name": "python3"
  },
  "language_info": {
   "codemirror_mode": {
    "name": "ipython",
    "version": 3
   },
   "file_extension": ".py",
   "mimetype": "text/x-python",
   "name": "python",
   "nbconvert_exporter": "python",
   "pygments_lexer": "ipython3",
   "version": "3.6.3"
  }
 },
 "nbformat": 4,
 "nbformat_minor": 2
}
